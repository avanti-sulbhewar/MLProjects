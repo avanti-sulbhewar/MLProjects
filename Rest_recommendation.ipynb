{
 "cells": [
  {
   "cell_type": "markdown",
   "id": "4b20af6d",
   "metadata": {},
   "source": [
    "## Restaurant Recommendation System"
   ]
  },
  {
   "cell_type": "code",
   "execution_count": 1,
   "id": "b00a6d76",
   "metadata": {},
   "outputs": [],
   "source": [
    "import pandas as pd\n",
    "import numpy as np\n",
    "from scipy import sparse\n",
    "from sklearn.metrics.pairwise import cosine_similarity\n"
   ]
  },
  {
   "cell_type": "code",
   "execution_count": 2,
   "id": "a6d50203",
   "metadata": {},
   "outputs": [],
   "source": [
    "public_ratings_df = pd.read_excel('public opinion.xlsx')\n",
    "personal_ratings_df = pd.read_excel('My fav.xlsx')"
   ]
  },
  {
   "cell_type": "code",
   "execution_count": 3,
   "id": "29c0d460",
   "metadata": {
    "scrolled": true
   },
   "outputs": [
    {
     "data": {
      "text/html": [
       "<div>\n",
       "<style scoped>\n",
       "    .dataframe tbody tr th:only-of-type {\n",
       "        vertical-align: middle;\n",
       "    }\n",
       "\n",
       "    .dataframe tbody tr th {\n",
       "        vertical-align: top;\n",
       "    }\n",
       "\n",
       "    .dataframe thead th {\n",
       "        text-align: right;\n",
       "    }\n",
       "</style>\n",
       "<table border=\"1\" class=\"dataframe\">\n",
       "  <thead>\n",
       "    <tr style=\"text-align: right;\">\n",
       "      <th></th>\n",
       "      <th>Restaurant Name</th>\n",
       "      <th>Type</th>\n",
       "      <th>Ratings</th>\n",
       "      <th>Address</th>\n",
       "    </tr>\n",
       "  </thead>\n",
       "  <tbody>\n",
       "    <tr>\n",
       "      <th>0</th>\n",
       "      <td>Restaurants</td>\n",
       "      <td>Restaurant</td>\n",
       "      <td>5.0</td>\n",
       "      <td>opposite nandanwar hospital</td>\n",
       "    </tr>\n",
       "    <tr>\n",
       "      <th>1</th>\n",
       "      <td>Jain Food Nagpur</td>\n",
       "      <td>Restaurant</td>\n",
       "      <td>5.0</td>\n",
       "      <td>43XR+M84, Railway Station Rd</td>\n",
       "    </tr>\n",
       "    <tr>\n",
       "      <th>2</th>\n",
       "      <td>Flavours of champaran Mutton &amp; chinese food</td>\n",
       "      <td>Restaurant</td>\n",
       "      <td>5.0</td>\n",
       "      <td>8, Gitanjali Housing Society, near by Epicure ...</td>\n",
       "    </tr>\n",
       "    <tr>\n",
       "      <th>3</th>\n",
       "      <td>GREND iSle Restro</td>\n",
       "      <td>Indian</td>\n",
       "      <td>5.0</td>\n",
       "      <td>4WRW+5WC</td>\n",
       "    </tr>\n",
       "    <tr>\n",
       "      <th>4</th>\n",
       "      <td>Fagito Lounge and Restro</td>\n",
       "      <td>Restaurant</td>\n",
       "      <td>5.0</td>\n",
       "      <td>W High Ct Rd, near SBI Bank</td>\n",
       "    </tr>\n",
       "  </tbody>\n",
       "</table>\n",
       "</div>"
      ],
      "text/plain": [
       "                               Restaurant Name        Type  Ratings   \n",
       "0                                  Restaurants  Restaurant      5.0  \\\n",
       "1                             Jain Food Nagpur  Restaurant      5.0   \n",
       "2  Flavours of champaran Mutton & chinese food  Restaurant      5.0   \n",
       "3                            GREND iSle Restro      Indian      5.0   \n",
       "4                     Fagito Lounge and Restro  Restaurant      5.0   \n",
       "\n",
       "                                             Address  \n",
       "0                        opposite nandanwar hospital  \n",
       "1                       43XR+M84, Railway Station Rd  \n",
       "2  8, Gitanjali Housing Society, near by Epicure ...  \n",
       "3                                           4WRW+5WC  \n",
       "4                        W High Ct Rd, near SBI Bank  "
      ]
     },
     "execution_count": 3,
     "metadata": {},
     "output_type": "execute_result"
    }
   ],
   "source": [
    "public_ratings_df.head()"
   ]
  },
  {
   "cell_type": "code",
   "execution_count": 4,
   "id": "bc33bce1",
   "metadata": {},
   "outputs": [
    {
     "data": {
      "text/html": [
       "<div>\n",
       "<style scoped>\n",
       "    .dataframe tbody tr th:only-of-type {\n",
       "        vertical-align: middle;\n",
       "    }\n",
       "\n",
       "    .dataframe tbody tr th {\n",
       "        vertical-align: top;\n",
       "    }\n",
       "\n",
       "    .dataframe thead th {\n",
       "        text-align: right;\n",
       "    }\n",
       "</style>\n",
       "<table border=\"1\" class=\"dataframe\">\n",
       "  <thead>\n",
       "    <tr style=\"text-align: right;\">\n",
       "      <th></th>\n",
       "      <th>Restaurant Name</th>\n",
       "      <th>Ratings</th>\n",
       "      <th>Type</th>\n",
       "      <th>Address</th>\n",
       "    </tr>\n",
       "  </thead>\n",
       "  <tbody>\n",
       "    <tr>\n",
       "      <th>0</th>\n",
       "      <td>The Better Butler</td>\n",
       "      <td>3.5</td>\n",
       "      <td>Cafe</td>\n",
       "      <td>322, Ganesh nagar Sharda Square, near Aaradhya...</td>\n",
       "    </tr>\n",
       "    <tr>\n",
       "      <th>1</th>\n",
       "      <td>The signature cafe</td>\n",
       "      <td>4.2</td>\n",
       "      <td>Cafe</td>\n",
       "      <td>71, Marwadi Wadi, Shantinagar Colony, Nagpur</td>\n",
       "    </tr>\n",
       "    <tr>\n",
       "      <th>2</th>\n",
       "      <td>The momo's Bar</td>\n",
       "      <td>4.0</td>\n",
       "      <td>Cafe</td>\n",
       "      <td>New Nandanvan Layout, Ganesh Nagar, Nandanvan,...</td>\n",
       "    </tr>\n",
       "    <tr>\n",
       "      <th>3</th>\n",
       "      <td>Jai Ambe Chat Corner</td>\n",
       "      <td>2.6</td>\n",
       "      <td>Hawker stall</td>\n",
       "      <td>SHOP NO. 25,SHRIMAN PALACE, Chandrapur - Nagpu...</td>\n",
       "    </tr>\n",
       "    <tr>\n",
       "      <th>4</th>\n",
       "      <td>Temptation café</td>\n",
       "      <td>3.5</td>\n",
       "      <td>Cafe</td>\n",
       "      <td>491, Nehru Nagar Corner Gurudev square</td>\n",
       "    </tr>\n",
       "  </tbody>\n",
       "</table>\n",
       "</div>"
      ],
      "text/plain": [
       "        Restaurant Name  Ratings          Type   \n",
       "0     The Better Butler      3.5          Cafe  \\\n",
       "1    The signature cafe      4.2          Cafe   \n",
       "2        The momo's Bar      4.0          Cafe   \n",
       "3  Jai Ambe Chat Corner      2.6  Hawker stall   \n",
       "4       Temptation café      3.5          Cafe   \n",
       "\n",
       "                                             Address  \n",
       "0  322, Ganesh nagar Sharda Square, near Aaradhya...  \n",
       "1       71, Marwadi Wadi, Shantinagar Colony, Nagpur  \n",
       "2  New Nandanvan Layout, Ganesh Nagar, Nandanvan,...  \n",
       "3  SHOP NO. 25,SHRIMAN PALACE, Chandrapur - Nagpu...  \n",
       "4             491, Nehru Nagar Corner Gurudev square  "
      ]
     },
     "execution_count": 4,
     "metadata": {},
     "output_type": "execute_result"
    }
   ],
   "source": [
    "personal_ratings_df.head()"
   ]
  },
  {
   "cell_type": "code",
   "execution_count": 5,
   "id": "2a669f37",
   "metadata": {},
   "outputs": [
    {
     "data": {
      "text/html": [
       "<div>\n",
       "<style scoped>\n",
       "    .dataframe tbody tr th:only-of-type {\n",
       "        vertical-align: middle;\n",
       "    }\n",
       "\n",
       "    .dataframe tbody tr th {\n",
       "        vertical-align: top;\n",
       "    }\n",
       "\n",
       "    .dataframe thead th {\n",
       "        text-align: right;\n",
       "    }\n",
       "</style>\n",
       "<table border=\"1\" class=\"dataframe\">\n",
       "  <thead>\n",
       "    <tr style=\"text-align: right;\">\n",
       "      <th></th>\n",
       "      <th>Restaurant Name</th>\n",
       "      <th>Type_x</th>\n",
       "      <th>Ratings_x</th>\n",
       "      <th>Address_x</th>\n",
       "      <th>Ratings_y</th>\n",
       "      <th>Type_y</th>\n",
       "      <th>Address_y</th>\n",
       "    </tr>\n",
       "  </thead>\n",
       "  <tbody>\n",
       "    <tr>\n",
       "      <th>0</th>\n",
       "      <td>The Better Butler</td>\n",
       "      <td>Cafe</td>\n",
       "      <td>4.7</td>\n",
       "      <td>322, Ganesh nagar Sharda Square, near Aaradhya...</td>\n",
       "      <td>3.5</td>\n",
       "      <td>Cafe</td>\n",
       "      <td>322, Ganesh nagar Sharda Square, near Aaradhya...</td>\n",
       "    </tr>\n",
       "    <tr>\n",
       "      <th>1</th>\n",
       "      <td>The signature cafe</td>\n",
       "      <td>Cafe</td>\n",
       "      <td>4.7</td>\n",
       "      <td>71, Marwadi Wadi, Shantinagar Colony, Nagpur</td>\n",
       "      <td>4.2</td>\n",
       "      <td>Cafe</td>\n",
       "      <td>71, Marwadi Wadi, Shantinagar Colony, Nagpur</td>\n",
       "    </tr>\n",
       "    <tr>\n",
       "      <th>2</th>\n",
       "      <td>The momo's Bar</td>\n",
       "      <td>Cafe</td>\n",
       "      <td>4.6</td>\n",
       "      <td>New Nandanvan Layout, Ganesh Nagar, Nandanvan,...</td>\n",
       "      <td>4.0</td>\n",
       "      <td>Cafe</td>\n",
       "      <td>New Nandanvan Layout, Ganesh Nagar, Nandanvan,...</td>\n",
       "    </tr>\n",
       "    <tr>\n",
       "      <th>3</th>\n",
       "      <td>Jai Ambe Chat Corner</td>\n",
       "      <td>Hawker stall</td>\n",
       "      <td>4.5</td>\n",
       "      <td>SHOP NO. 25,SHRIMAN PALACE, Chandrapur - Nagpu...</td>\n",
       "      <td>2.6</td>\n",
       "      <td>Hawker stall</td>\n",
       "      <td>SHOP NO. 25,SHRIMAN PALACE, Chandrapur - Nagpu...</td>\n",
       "    </tr>\n",
       "    <tr>\n",
       "      <th>4</th>\n",
       "      <td>Temptation café</td>\n",
       "      <td>Cafe</td>\n",
       "      <td>4.4</td>\n",
       "      <td>491, Nehru Nagar Corner Gurudev square</td>\n",
       "      <td>3.5</td>\n",
       "      <td>Cafe</td>\n",
       "      <td>491, Nehru Nagar Corner Gurudev square</td>\n",
       "    </tr>\n",
       "  </tbody>\n",
       "</table>\n",
       "</div>"
      ],
      "text/plain": [
       "        Restaurant Name        Type_x  Ratings_x   \n",
       "0     The Better Butler          Cafe        4.7  \\\n",
       "1    The signature cafe          Cafe        4.7   \n",
       "2        The momo's Bar          Cafe        4.6   \n",
       "3  Jai Ambe Chat Corner  Hawker stall        4.5   \n",
       "4       Temptation café          Cafe        4.4   \n",
       "\n",
       "                                           Address_x  Ratings_y        Type_y   \n",
       "0  322, Ganesh nagar Sharda Square, near Aaradhya...        3.5          Cafe  \\\n",
       "1       71, Marwadi Wadi, Shantinagar Colony, Nagpur        4.2          Cafe   \n",
       "2  New Nandanvan Layout, Ganesh Nagar, Nandanvan,...        4.0          Cafe   \n",
       "3  SHOP NO. 25,SHRIMAN PALACE, Chandrapur - Nagpu...        2.6  Hawker stall   \n",
       "4             491, Nehru Nagar Corner Gurudev square        3.5          Cafe   \n",
       "\n",
       "                                           Address_y  \n",
       "0  322, Ganesh nagar Sharda Square, near Aaradhya...  \n",
       "1       71, Marwadi Wadi, Shantinagar Colony, Nagpur  \n",
       "2  New Nandanvan Layout, Ganesh Nagar, Nandanvan,...  \n",
       "3  SHOP NO. 25,SHRIMAN PALACE, Chandrapur - Nagpu...  \n",
       "4             491, Nehru Nagar Corner Gurudev square  "
      ]
     },
     "execution_count": 5,
     "metadata": {},
     "output_type": "execute_result"
    }
   ],
   "source": [
    "merged_df = pd.merge(public_ratings_df, personal_ratings_df, on='Restaurant Name')\n",
    "merged_df.head()"
   ]
  },
  {
   "cell_type": "code",
   "execution_count": 38,
   "id": "e9df58b2",
   "metadata": {},
   "outputs": [
    {
     "data": {
      "text/plain": [
       "0"
      ]
     },
     "execution_count": 38,
     "metadata": {},
     "output_type": "execute_result"
    }
   ],
   "source": [
    "merged_df.duplicated().sum()"
   ]
  },
  {
   "cell_type": "code",
   "execution_count": 6,
   "id": "f12aa423",
   "metadata": {},
   "outputs": [
    {
     "data": {
      "text/html": [
       "<div>\n",
       "<style scoped>\n",
       "    .dataframe tbody tr th:only-of-type {\n",
       "        vertical-align: middle;\n",
       "    }\n",
       "\n",
       "    .dataframe tbody tr th {\n",
       "        vertical-align: top;\n",
       "    }\n",
       "\n",
       "    .dataframe thead th {\n",
       "        text-align: right;\n",
       "    }\n",
       "</style>\n",
       "<table border=\"1\" class=\"dataframe\">\n",
       "  <thead>\n",
       "    <tr style=\"text-align: right;\">\n",
       "      <th></th>\n",
       "      <th>Ratings_x</th>\n",
       "      <th>Ratings_y</th>\n",
       "    </tr>\n",
       "    <tr>\n",
       "      <th>Restaurant Name</th>\n",
       "      <th></th>\n",
       "      <th></th>\n",
       "    </tr>\n",
       "  </thead>\n",
       "  <tbody>\n",
       "    <tr>\n",
       "      <th>The Better Butler</th>\n",
       "      <td>4.7</td>\n",
       "      <td>3.5</td>\n",
       "    </tr>\n",
       "    <tr>\n",
       "      <th>The signature cafe</th>\n",
       "      <td>4.7</td>\n",
       "      <td>4.2</td>\n",
       "    </tr>\n",
       "    <tr>\n",
       "      <th>The momo's Bar</th>\n",
       "      <td>4.6</td>\n",
       "      <td>4.0</td>\n",
       "    </tr>\n",
       "    <tr>\n",
       "      <th>Jai Ambe Chat Corner</th>\n",
       "      <td>4.5</td>\n",
       "      <td>2.6</td>\n",
       "    </tr>\n",
       "    <tr>\n",
       "      <th>Temptation café</th>\n",
       "      <td>4.4</td>\n",
       "      <td>3.5</td>\n",
       "    </tr>\n",
       "    <tr>\n",
       "      <th>...</th>\n",
       "      <td>...</td>\n",
       "      <td>...</td>\n",
       "    </tr>\n",
       "    <tr>\n",
       "      <th>Roof 9</th>\n",
       "      <td>3.7</td>\n",
       "      <td>3.3</td>\n",
       "    </tr>\n",
       "    <tr>\n",
       "      <th>Cafe Turtle</th>\n",
       "      <td>3.7</td>\n",
       "      <td>4.2</td>\n",
       "    </tr>\n",
       "    <tr>\n",
       "      <th>Aquila Delhi</th>\n",
       "      <td>3.5</td>\n",
       "      <td>4.2</td>\n",
       "    </tr>\n",
       "    <tr>\n",
       "      <th>Shivbhojan Thali</th>\n",
       "      <td>3.4</td>\n",
       "      <td>1.5</td>\n",
       "    </tr>\n",
       "    <tr>\n",
       "      <th>ICE CREAM PARLOUR</th>\n",
       "      <td>3.3</td>\n",
       "      <td>3.3</td>\n",
       "    </tr>\n",
       "  </tbody>\n",
       "</table>\n",
       "<p>103 rows × 2 columns</p>\n",
       "</div>"
      ],
      "text/plain": [
       "                      Ratings_x  Ratings_y\n",
       "Restaurant Name                           \n",
       "The Better Butler           4.7        3.5\n",
       "The signature cafe          4.7        4.2\n",
       "The momo's Bar              4.6        4.0\n",
       "Jai Ambe Chat Corner        4.5        2.6\n",
       "Temptation café             4.4        3.5\n",
       "...                         ...        ...\n",
       "Roof 9                      3.7        3.3\n",
       "Cafe Turtle                 3.7        4.2\n",
       "Aquila Delhi                3.5        4.2\n",
       "Shivbhojan Thali            3.4        1.5\n",
       "ICE CREAM PARLOUR           3.3        3.3\n",
       "\n",
       "[103 rows x 2 columns]"
      ]
     },
     "execution_count": 6,
     "metadata": {},
     "output_type": "execute_result"
    }
   ],
   "source": [
    "columns_to_drop = ['Type_y', 'Address_y','Type_x','Address_x']\n",
    "df = merged_df.drop(columns=columns_to_drop)\n",
    "df= df.set_index('Restaurant Name')\n",
    "\n",
    "df"
   ]
  },
  {
   "cell_type": "code",
   "execution_count": 7,
   "id": "357bf564",
   "metadata": {},
   "outputs": [],
   "source": [
    "df = df.fillna(0)"
   ]
  },
  {
   "cell_type": "code",
   "execution_count": 22,
   "id": "22605474",
   "metadata": {},
   "outputs": [
    {
     "name": "stdout",
     "output_type": "stream",
     "text": [
      "[[1.         0.99602528 0.99713949 ... 0.97228805 0.97488415 0.98946106]\n",
      " [0.99602528 1.         0.99990842 ... 0.98924704 0.95117202 0.99842564]\n",
      " [0.99713949 0.99990842 1.         ... 0.98717714 0.95526214 0.9975751 ]\n",
      " ...\n",
      " [0.97228805 0.98924704 0.98717714 ... 1.         0.8958011  0.99589321]\n",
      " [0.97488415 0.95117202 0.95526214 ... 0.8958011  1.         0.93236131]\n",
      " [0.98946106 0.99842564 0.9975751  ... 0.99589321 0.93236131 1.        ]]\n"
     ]
    },
    {
     "data": {
      "text/plain": [
       "(103, 103)"
      ]
     },
     "execution_count": 22,
     "metadata": {},
     "output_type": "execute_result"
    }
   ],
   "source": [
    "#To find similarity score between items\n",
    "similarity = cosine_similarity(df)\n",
    "print(similarity)\n",
    "similarity.shape\n",
    " "
   ]
  },
  {
   "cell_type": "code",
   "execution_count": 53,
   "id": "7dd5af6d",
   "metadata": {},
   "outputs": [],
   "source": [
    "#Function which takes a restaurant name as input and returns 5 restaurant recommendations \n",
    "def recommend(rest_name):\n",
    "#fetching index of the restaurant     \n",
    "    index = np.where(df.index==rest_name)[0][0]\n",
    "#similarity[index]-->to get (distance)similarity with other restaurants to the index\n",
    "#enumerate-->to get index along with similarity\n",
    "#sort-->to get most similar items on top / sort on basis of similarity in ascending order \n",
    "\n",
    "    similar_rest = sorted(list(enumerate(similarity[index])),key=lambda x:x[1],reverse=True)[1:6]\n",
    "    for i in similar_rest:\n",
    "        print(df.index[i[0]])\n",
    "    "
   ]
  },
  {
   "cell_type": "code",
   "execution_count": 54,
   "id": "0ff53d12",
   "metadata": {},
   "outputs": [
    {
     "name": "stdout",
     "output_type": "stream",
     "text": [
      "The signature cafe\n",
      "Galaxy Restra\n",
      "India Coffee House\n",
      "Khalsa Dhaba\n",
      "Brewin Cafe\n"
     ]
    }
   ],
   "source": [
    "recommend('Roof 9')"
   ]
  },
  {
   "cell_type": "code",
   "execution_count": null,
   "id": "aa2b6d3f",
   "metadata": {},
   "outputs": [],
   "source": []
  }
 ],
 "metadata": {
  "kernelspec": {
   "display_name": "Python 3 (ipykernel)",
   "language": "python",
   "name": "python3"
  },
  "language_info": {
   "codemirror_mode": {
    "name": "ipython",
    "version": 3
   },
   "file_extension": ".py",
   "mimetype": "text/x-python",
   "name": "python",
   "nbconvert_exporter": "python",
   "pygments_lexer": "ipython3",
   "version": "3.10.9"
  }
 },
 "nbformat": 4,
 "nbformat_minor": 5
}
